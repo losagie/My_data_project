{
 "cells": [
  {
   "cell_type": "code",
   "execution_count": 55,
   "id": "bffff741-f729-466c-ba45-1440f8c6f490",
   "metadata": {},
   "outputs": [],
   "source": [
    "import pandas as pd\n",
    "import numpy as np\n",
    "import matplotlib.pyplot as plt\n",
    "import seaborn as sn\n",
    "import scipy"
   ]
  },
  {
   "cell_type": "code",
   "execution_count": 5,
   "id": "c1245f16-2b6a-4963-9269-65e047cbe2d4",
   "metadata": {},
   "outputs": [
    {
     "name": "stdout",
     "output_type": "stream",
     "text": [
      "Requirement already satisfied: openpyxl in c:\\users\\hp\\anaconda3\\envs\\delaw\\lib\\site-packages (3.1.5)Note: you may need to restart the kernel to use updated packages.\n",
      "\n",
      "Requirement already satisfied: et-xmlfile in c:\\users\\hp\\anaconda3\\envs\\delaw\\lib\\site-packages (from openpyxl) (1.1.0)\n"
     ]
    }
   ],
   "source": [
    "%pip install openpyxl"
   ]
  },
  {
   "cell_type": "code",
   "execution_count": 6,
   "id": "56920132-a14f-406c-8b31-fdfca06ba608",
   "metadata": {},
   "outputs": [
    {
     "data": {
      "text/html": [
       "<div>\n",
       "<style scoped>\n",
       "    .dataframe tbody tr th:only-of-type {\n",
       "        vertical-align: middle;\n",
       "    }\n",
       "\n",
       "    .dataframe tbody tr th {\n",
       "        vertical-align: top;\n",
       "    }\n",
       "\n",
       "    .dataframe thead th {\n",
       "        text-align: right;\n",
       "    }\n",
       "</style>\n",
       "<table border=\"1\" class=\"dataframe\">\n",
       "  <thead>\n",
       "    <tr style=\"text-align: right;\">\n",
       "      <th></th>\n",
       "      <th>S/n</th>\n",
       "      <th>Names</th>\n",
       "      <th>Age</th>\n",
       "      <th>Subjects</th>\n",
       "      <th>Scores</th>\n",
       "    </tr>\n",
       "  </thead>\n",
       "  <tbody>\n",
       "    <tr>\n",
       "      <th>0</th>\n",
       "      <td>1</td>\n",
       "      <td>Alvin</td>\n",
       "      <td>21</td>\n",
       "      <td>Maths</td>\n",
       "      <td>210</td>\n",
       "    </tr>\n",
       "    <tr>\n",
       "      <th>1</th>\n",
       "      <td>2</td>\n",
       "      <td>Ray</td>\n",
       "      <td>28</td>\n",
       "      <td>English</td>\n",
       "      <td>350</td>\n",
       "    </tr>\n",
       "    <tr>\n",
       "      <th>2</th>\n",
       "      <td>3</td>\n",
       "      <td>John</td>\n",
       "      <td>27</td>\n",
       "      <td>French</td>\n",
       "      <td>200</td>\n",
       "    </tr>\n",
       "    <tr>\n",
       "      <th>3</th>\n",
       "      <td>4</td>\n",
       "      <td>Greg</td>\n",
       "      <td>19</td>\n",
       "      <td>Geography</td>\n",
       "      <td>380</td>\n",
       "    </tr>\n",
       "    <tr>\n",
       "      <th>4</th>\n",
       "      <td>5</td>\n",
       "      <td>Dorcas</td>\n",
       "      <td>30</td>\n",
       "      <td>Biology</td>\n",
       "      <td>401</td>\n",
       "    </tr>\n",
       "    <tr>\n",
       "      <th>5</th>\n",
       "      <td>6</td>\n",
       "      <td>Mabel</td>\n",
       "      <td>32</td>\n",
       "      <td>Physics</td>\n",
       "      <td>259</td>\n",
       "    </tr>\n",
       "    <tr>\n",
       "      <th>6</th>\n",
       "      <td>7</td>\n",
       "      <td>Tim</td>\n",
       "      <td>25</td>\n",
       "      <td>Chemistry</td>\n",
       "      <td>370</td>\n",
       "    </tr>\n",
       "    <tr>\n",
       "      <th>7</th>\n",
       "      <td>8</td>\n",
       "      <td>Fred</td>\n",
       "      <td>35</td>\n",
       "      <td>ML</td>\n",
       "      <td>265</td>\n",
       "    </tr>\n",
       "    <tr>\n",
       "      <th>8</th>\n",
       "      <td>9</td>\n",
       "      <td>Mark</td>\n",
       "      <td>40</td>\n",
       "      <td>Gen AI</td>\n",
       "      <td>315</td>\n",
       "    </tr>\n",
       "    <tr>\n",
       "      <th>9</th>\n",
       "      <td>10</td>\n",
       "      <td>Paul</td>\n",
       "      <td>18</td>\n",
       "      <td>Data Science</td>\n",
       "      <td>465</td>\n",
       "    </tr>\n",
       "  </tbody>\n",
       "</table>\n",
       "</div>"
      ],
      "text/plain": [
       "   S/n   Names  Age      Subjects  Scores\n",
       "0    1   Alvin   21         Maths     210\n",
       "1    2     Ray   28       English     350\n",
       "2    3    John   27        French     200\n",
       "3    4    Greg   19     Geography     380\n",
       "4    5  Dorcas   30       Biology     401\n",
       "5    6   Mabel   32       Physics     259\n",
       "6    7     Tim   25     Chemistry     370\n",
       "7    8    Fred   35            ML     265\n",
       "8    9    Mark   40        Gen AI     315\n",
       "9   10    Paul   18  Data Science     465"
      ]
     },
     "execution_count": 6,
     "metadata": {},
     "output_type": "execute_result"
    }
   ],
   "source": [
    "dataframe = {'S/n': [1,2,3,4,5,6,7,8,9,10],\n",
    "             'Names':['Alvin', 'Ray', 'John','Greg', 'Dorcas', 'Mabel', 'Tim', 'Fred', 'Mark', 'Paul'],\n",
    "             'Age': [21,28,27,19,30,32,25, 35,40, 18],\n",
    "             'Subjects':['Maths','English','French','Geography','Biology', 'Physics', 'Chemistry','ML', 'Gen AI', 'Data Science'],\n",
    "             'Scores':[210, 350,200,380,401,259,370,265,315,465]}\n",
    "\n",
    "df= pd.DataFrame(data = dataframe)\n",
    "\n",
    "df.head(10)"
   ]
  },
  {
   "cell_type": "code",
   "execution_count": 7,
   "id": "f109e9c6-0866-4812-bccf-2e88cfa2b453",
   "metadata": {},
   "outputs": [
    {
     "data": {
      "text/plain": [
       "array([-2.60855464e-02,  3.58865032e+01])"
      ]
     },
     "execution_count": 7,
     "metadata": {},
     "output_type": "execute_result"
    }
   ],
   "source": [
    "x = df['Scores']\n",
    "y = df['Age']\n",
    "\n",
    "regr = np.polyfit(x,y,1)\n",
    "regr"
   ]
  },
  {
   "cell_type": "code",
   "execution_count": 8,
   "id": "bd44cb39-7d20-443b-8da9-f19f34fbb68a",
   "metadata": {},
   "outputs": [],
   "source": [
    "from scipy import stats"
   ]
  },
  {
   "cell_type": "code",
   "execution_count": 9,
   "id": "21214c08-112f-4454-90e4-f7201fc0329c",
   "metadata": {},
   "outputs": [
    {
     "data": {
      "text/plain": [
       "-0.026085546440233216"
      ]
     },
     "execution_count": 9,
     "metadata": {},
     "output_type": "execute_result"
    }
   ],
   "source": [
    "slope, intercept,r,p,std_err = stats.linregress(x,y)\n",
    "slope"
   ]
  },
  {
   "cell_type": "code",
   "execution_count": 10,
   "id": "08abc585-92d2-4a71-963a-21a06b1d9af8",
   "metadata": {},
   "outputs": [
    {
     "data": {
      "text/plain": [
       "35.88650318053498"
      ]
     },
     "execution_count": 10,
     "metadata": {},
     "output_type": "execute_result"
    }
   ],
   "source": [
    "intercept"
   ]
  },
  {
   "cell_type": "code",
   "execution_count": 11,
   "id": "a254ef90-c89e-407e-8f54-1fb57f6aef20",
   "metadata": {},
   "outputs": [
    {
     "data": {
      "text/plain": [
       "-0.3200942370465904"
      ]
     },
     "execution_count": 11,
     "metadata": {},
     "output_type": "execute_result"
    }
   ],
   "source": [
    "r"
   ]
  },
  {
   "cell_type": "code",
   "execution_count": 12,
   "id": "acdd2eb7-6f67-4762-8db5-1cb25292f0be",
   "metadata": {},
   "outputs": [
    {
     "data": {
      "text/plain": [
       "0.36723429039447275"
      ]
     },
     "execution_count": 12,
     "metadata": {},
     "output_type": "execute_result"
    }
   ],
   "source": [
    "p"
   ]
  },
  {
   "cell_type": "code",
   "execution_count": 13,
   "id": "0600fba5-7705-43e1-94d7-0e1db323deda",
   "metadata": {},
   "outputs": [
    {
     "data": {
      "text/plain": [
       "0.027296308556992183"
      ]
     },
     "execution_count": 13,
     "metadata": {},
     "output_type": "execute_result"
    }
   ],
   "source": [
    "std_err"
   ]
  },
  {
   "cell_type": "code",
   "execution_count": 14,
   "id": "3d3282b8-8c30-4ab8-a2bc-ed20c066b682",
   "metadata": {},
   "outputs": [
    {
     "data": {
      "text/html": [
       "<div>\n",
       "<style scoped>\n",
       "    .dataframe tbody tr th:only-of-type {\n",
       "        vertical-align: middle;\n",
       "    }\n",
       "\n",
       "    .dataframe tbody tr th {\n",
       "        vertical-align: top;\n",
       "    }\n",
       "\n",
       "    .dataframe thead th {\n",
       "        text-align: right;\n",
       "    }\n",
       "</style>\n",
       "<table border=\"1\" class=\"dataframe\">\n",
       "  <thead>\n",
       "    <tr style=\"text-align: right;\">\n",
       "      <th></th>\n",
       "      <th>OrderDate</th>\n",
       "      <th>Region</th>\n",
       "      <th>Rep</th>\n",
       "      <th>Item</th>\n",
       "      <th>Units</th>\n",
       "      <th>Unit Cost</th>\n",
       "      <th>Total</th>\n",
       "    </tr>\n",
       "  </thead>\n",
       "  <tbody>\n",
       "    <tr>\n",
       "      <th>0</th>\n",
       "      <td>2021-01-06</td>\n",
       "      <td>East</td>\n",
       "      <td>Jones</td>\n",
       "      <td>Pencil</td>\n",
       "      <td>95</td>\n",
       "      <td>1.99</td>\n",
       "      <td>189.05</td>\n",
       "    </tr>\n",
       "    <tr>\n",
       "      <th>1</th>\n",
       "      <td>2021-01-23</td>\n",
       "      <td>Central</td>\n",
       "      <td>Kivell</td>\n",
       "      <td>Binder</td>\n",
       "      <td>50</td>\n",
       "      <td>19.99</td>\n",
       "      <td>999.50</td>\n",
       "    </tr>\n",
       "    <tr>\n",
       "      <th>2</th>\n",
       "      <td>2021-02-09</td>\n",
       "      <td>Central</td>\n",
       "      <td>Jardine</td>\n",
       "      <td>Pencil</td>\n",
       "      <td>36</td>\n",
       "      <td>4.99</td>\n",
       "      <td>179.64</td>\n",
       "    </tr>\n",
       "    <tr>\n",
       "      <th>3</th>\n",
       "      <td>2021-02-26</td>\n",
       "      <td>Central</td>\n",
       "      <td>Gill</td>\n",
       "      <td>Pen</td>\n",
       "      <td>27</td>\n",
       "      <td>19.99</td>\n",
       "      <td>539.73</td>\n",
       "    </tr>\n",
       "    <tr>\n",
       "      <th>4</th>\n",
       "      <td>2021-03-15</td>\n",
       "      <td>West</td>\n",
       "      <td>Sorvino</td>\n",
       "      <td>Pencil</td>\n",
       "      <td>56</td>\n",
       "      <td>2.99</td>\n",
       "      <td>167.44</td>\n",
       "    </tr>\n",
       "  </tbody>\n",
       "</table>\n",
       "</div>"
      ],
      "text/plain": [
       "   OrderDate   Region      Rep    Item  Units  Unit Cost   Total\n",
       "0 2021-01-06     East    Jones  Pencil     95       1.99  189.05\n",
       "1 2021-01-23  Central   Kivell  Binder     50      19.99  999.50\n",
       "2 2021-02-09  Central  Jardine  Pencil     36       4.99  179.64\n",
       "3 2021-02-26  Central     Gill     Pen     27      19.99  539.73\n",
       "4 2021-03-15     West  Sorvino  Pencil     56       2.99  167.44"
      ]
     },
     "execution_count": 14,
     "metadata": {},
     "output_type": "execute_result"
    }
   ],
   "source": [
    "off_supply = pd.read_excel(r\"C:\\Users\\HP\\Downloads\\Ofiice Supply Corr.xlsx\")\n",
    "off_supply.head()"
   ]
  },
  {
   "cell_type": "code",
   "execution_count": 15,
   "id": "f81fa2e6-d7d8-4a4b-82f5-7e3e2b274155",
   "metadata": {},
   "outputs": [
    {
     "name": "stdout",
     "output_type": "stream",
     "text": [
      "<class 'pandas.core.frame.DataFrame'>\n",
      "RangeIndex: 43 entries, 0 to 42\n",
      "Data columns (total 7 columns):\n",
      " #   Column     Non-Null Count  Dtype         \n",
      "---  ------     --------------  -----         \n",
      " 0   OrderDate  43 non-null     datetime64[ns]\n",
      " 1   Region     43 non-null     object        \n",
      " 2   Rep        43 non-null     object        \n",
      " 3   Item       43 non-null     object        \n",
      " 4   Units      43 non-null     int64         \n",
      " 5   Unit Cost  43 non-null     float64       \n",
      " 6   Total      43 non-null     float64       \n",
      "dtypes: datetime64[ns](1), float64(2), int64(1), object(3)\n",
      "memory usage: 2.5+ KB\n"
     ]
    }
   ],
   "source": [
    "off_supply.info()"
   ]
  },
  {
   "cell_type": "code",
   "execution_count": 16,
   "id": "e2dd6a6e-d071-4bd8-af28-fbd510d013b6",
   "metadata": {},
   "outputs": [
    {
     "data": {
      "text/html": [
       "<div>\n",
       "<style scoped>\n",
       "    .dataframe tbody tr th:only-of-type {\n",
       "        vertical-align: middle;\n",
       "    }\n",
       "\n",
       "    .dataframe tbody tr th {\n",
       "        vertical-align: top;\n",
       "    }\n",
       "\n",
       "    .dataframe thead th {\n",
       "        text-align: right;\n",
       "    }\n",
       "</style>\n",
       "<table border=\"1\" class=\"dataframe\">\n",
       "  <thead>\n",
       "    <tr style=\"text-align: right;\">\n",
       "      <th></th>\n",
       "      <th>OrderDate</th>\n",
       "      <th>Region</th>\n",
       "      <th>Rep</th>\n",
       "      <th>Item</th>\n",
       "      <th>Units</th>\n",
       "      <th>Unit Cost</th>\n",
       "      <th>Total</th>\n",
       "      <th>Grand Total</th>\n",
       "    </tr>\n",
       "  </thead>\n",
       "  <tbody>\n",
       "    <tr>\n",
       "      <th>0</th>\n",
       "      <td>2021-01-06</td>\n",
       "      <td>East</td>\n",
       "      <td>Jones</td>\n",
       "      <td>Pencil</td>\n",
       "      <td>95</td>\n",
       "      <td>1.99</td>\n",
       "      <td>189.05</td>\n",
       "      <td>17959.75</td>\n",
       "    </tr>\n",
       "    <tr>\n",
       "      <th>1</th>\n",
       "      <td>2021-01-23</td>\n",
       "      <td>Central</td>\n",
       "      <td>Kivell</td>\n",
       "      <td>Binder</td>\n",
       "      <td>50</td>\n",
       "      <td>19.99</td>\n",
       "      <td>999.50</td>\n",
       "      <td>49975.00</td>\n",
       "    </tr>\n",
       "    <tr>\n",
       "      <th>2</th>\n",
       "      <td>2021-02-09</td>\n",
       "      <td>Central</td>\n",
       "      <td>Jardine</td>\n",
       "      <td>Pencil</td>\n",
       "      <td>36</td>\n",
       "      <td>4.99</td>\n",
       "      <td>179.64</td>\n",
       "      <td>6467.04</td>\n",
       "    </tr>\n",
       "    <tr>\n",
       "      <th>3</th>\n",
       "      <td>2021-02-26</td>\n",
       "      <td>Central</td>\n",
       "      <td>Gill</td>\n",
       "      <td>Pen</td>\n",
       "      <td>27</td>\n",
       "      <td>19.99</td>\n",
       "      <td>539.73</td>\n",
       "      <td>14572.71</td>\n",
       "    </tr>\n",
       "    <tr>\n",
       "      <th>4</th>\n",
       "      <td>2021-03-15</td>\n",
       "      <td>West</td>\n",
       "      <td>Sorvino</td>\n",
       "      <td>Pencil</td>\n",
       "      <td>56</td>\n",
       "      <td>2.99</td>\n",
       "      <td>167.44</td>\n",
       "      <td>9376.64</td>\n",
       "    </tr>\n",
       "  </tbody>\n",
       "</table>\n",
       "</div>"
      ],
      "text/plain": [
       "   OrderDate   Region      Rep    Item  Units  Unit Cost   Total  Grand Total\n",
       "0 2021-01-06     East    Jones  Pencil     95       1.99  189.05     17959.75\n",
       "1 2021-01-23  Central   Kivell  Binder     50      19.99  999.50     49975.00\n",
       "2 2021-02-09  Central  Jardine  Pencil     36       4.99  179.64      6467.04\n",
       "3 2021-02-26  Central     Gill     Pen     27      19.99  539.73     14572.71\n",
       "4 2021-03-15     West  Sorvino  Pencil     56       2.99  167.44      9376.64"
      ]
     },
     "execution_count": 16,
     "metadata": {},
     "output_type": "execute_result"
    }
   ],
   "source": [
    "off_supply['Grand Total'] = off_supply['Units']*off_supply['Total']\n",
    "\n",
    "off_supply.head()"
   ]
  },
  {
   "cell_type": "code",
   "execution_count": 17,
   "id": "bb97f79a-a21d-4bd4-90bd-79190fec38d5",
   "metadata": {},
   "outputs": [
    {
     "data": {
      "text/html": [
       "<div>\n",
       "<style scoped>\n",
       "    .dataframe tbody tr th:only-of-type {\n",
       "        vertical-align: middle;\n",
       "    }\n",
       "\n",
       "    .dataframe tbody tr th {\n",
       "        vertical-align: top;\n",
       "    }\n",
       "\n",
       "    .dataframe thead th {\n",
       "        text-align: right;\n",
       "    }\n",
       "</style>\n",
       "<table border=\"1\" class=\"dataframe\">\n",
       "  <thead>\n",
       "    <tr style=\"text-align: right;\">\n",
       "      <th></th>\n",
       "      <th>OrderDate</th>\n",
       "      <th>Units</th>\n",
       "      <th>Unit Cost</th>\n",
       "      <th>Total</th>\n",
       "      <th>Grand Total</th>\n",
       "    </tr>\n",
       "  </thead>\n",
       "  <tbody>\n",
       "    <tr>\n",
       "      <th>count</th>\n",
       "      <td>43</td>\n",
       "      <td>43.000000</td>\n",
       "      <td>43.000000</td>\n",
       "      <td>43.000000</td>\n",
       "      <td>43.000000</td>\n",
       "    </tr>\n",
       "    <tr>\n",
       "      <th>mean</th>\n",
       "      <td>2021-12-29 00:00:00</td>\n",
       "      <td>49.325581</td>\n",
       "      <td>20.308605</td>\n",
       "      <td>456.462326</td>\n",
       "      <td>27874.807907</td>\n",
       "    </tr>\n",
       "    <tr>\n",
       "      <th>min</th>\n",
       "      <td>2021-01-06 00:00:00</td>\n",
       "      <td>2.000000</td>\n",
       "      <td>1.290000</td>\n",
       "      <td>9.030000</td>\n",
       "      <td>63.210000</td>\n",
       "    </tr>\n",
       "    <tr>\n",
       "      <th>25%</th>\n",
       "      <td>2021-07-03 12:00:00</td>\n",
       "      <td>27.500000</td>\n",
       "      <td>3.990000</td>\n",
       "      <td>144.590000</td>\n",
       "      <td>3767.885000</td>\n",
       "    </tr>\n",
       "    <tr>\n",
       "      <th>50%</th>\n",
       "      <td>2021-12-29 00:00:00</td>\n",
       "      <td>53.000000</td>\n",
       "      <td>4.990000</td>\n",
       "      <td>299.400000</td>\n",
       "      <td>11494.240000</td>\n",
       "    </tr>\n",
       "    <tr>\n",
       "      <th>75%</th>\n",
       "      <td>2022-06-25 12:00:00</td>\n",
       "      <td>74.500000</td>\n",
       "      <td>17.990000</td>\n",
       "      <td>600.180000</td>\n",
       "      <td>40419.000000</td>\n",
       "    </tr>\n",
       "    <tr>\n",
       "      <th>max</th>\n",
       "      <td>2022-12-21 00:00:00</td>\n",
       "      <td>96.000000</td>\n",
       "      <td>275.000000</td>\n",
       "      <td>1879.060000</td>\n",
       "      <td>176631.640000</td>\n",
       "    </tr>\n",
       "    <tr>\n",
       "      <th>std</th>\n",
       "      <td>NaN</td>\n",
       "      <td>30.078248</td>\n",
       "      <td>47.345118</td>\n",
       "      <td>447.022104</td>\n",
       "      <td>38141.644644</td>\n",
       "    </tr>\n",
       "  </tbody>\n",
       "</table>\n",
       "</div>"
      ],
      "text/plain": [
       "                 OrderDate      Units   Unit Cost        Total    Grand Total\n",
       "count                   43  43.000000   43.000000    43.000000      43.000000\n",
       "mean   2021-12-29 00:00:00  49.325581   20.308605   456.462326   27874.807907\n",
       "min    2021-01-06 00:00:00   2.000000    1.290000     9.030000      63.210000\n",
       "25%    2021-07-03 12:00:00  27.500000    3.990000   144.590000    3767.885000\n",
       "50%    2021-12-29 00:00:00  53.000000    4.990000   299.400000   11494.240000\n",
       "75%    2022-06-25 12:00:00  74.500000   17.990000   600.180000   40419.000000\n",
       "max    2022-12-21 00:00:00  96.000000  275.000000  1879.060000  176631.640000\n",
       "std                    NaN  30.078248   47.345118   447.022104   38141.644644"
      ]
     },
     "execution_count": 17,
     "metadata": {},
     "output_type": "execute_result"
    }
   ],
   "source": [
    "off_supply.describe()"
   ]
  },
  {
   "cell_type": "code",
   "execution_count": 18,
   "id": "2bc46cf0-316a-41f7-a821-5d0a75d108b3",
   "metadata": {},
   "outputs": [],
   "source": [
    "import statsmodels.formula.api as smf\n",
    "\n",
    "mode = smf.ols('Total ~ Units' , data = off_supply)"
   ]
  },
  {
   "cell_type": "code",
   "execution_count": 19,
   "id": "26fa430f-6fc7-4974-80a3-71f87f467a9e",
   "metadata": {},
   "outputs": [],
   "source": [
    "result = mode.fit()"
   ]
  },
  {
   "cell_type": "code",
   "execution_count": 20,
   "id": "23dd53ad-75c5-44cf-ac2d-2d57ca661a75",
   "metadata": {},
   "outputs": [
    {
     "data": {
      "text/html": [
       "<table class=\"simpletable\">\n",
       "<caption>OLS Regression Results</caption>\n",
       "<tr>\n",
       "  <th>Dep. Variable:</th>          <td>Total</td>      <th>  R-squared:         </th> <td>   0.167</td>\n",
       "</tr>\n",
       "<tr>\n",
       "  <th>Model:</th>                   <td>OLS</td>       <th>  Adj. R-squared:    </th> <td>   0.146</td>\n",
       "</tr>\n",
       "<tr>\n",
       "  <th>Method:</th>             <td>Least Squares</td>  <th>  F-statistic:       </th> <td>   8.193</td>\n",
       "</tr>\n",
       "<tr>\n",
       "  <th>Date:</th>             <td>Fri, 13 Sep 2024</td> <th>  Prob (F-statistic):</th>  <td>0.00660</td>\n",
       "</tr>\n",
       "<tr>\n",
       "  <th>Time:</th>                 <td>12:29:45</td>     <th>  Log-Likelihood:    </th> <td> -319.00</td>\n",
       "</tr>\n",
       "<tr>\n",
       "  <th>No. Observations:</th>      <td>    43</td>      <th>  AIC:               </th> <td>   642.0</td>\n",
       "</tr>\n",
       "<tr>\n",
       "  <th>Df Residuals:</th>          <td>    41</td>      <th>  BIC:               </th> <td>   645.5</td>\n",
       "</tr>\n",
       "<tr>\n",
       "  <th>Df Model:</th>              <td>     1</td>      <th>                     </th>     <td> </td>   \n",
       "</tr>\n",
       "<tr>\n",
       "  <th>Covariance Type:</th>      <td>nonrobust</td>    <th>                     </th>     <td> </td>   \n",
       "</tr>\n",
       "</table>\n",
       "<table class=\"simpletable\">\n",
       "<tr>\n",
       "      <td></td>         <th>coef</th>     <th>std err</th>      <th>t</th>      <th>P>|t|</th>  <th>[0.025</th>    <th>0.975]</th>  \n",
       "</tr>\n",
       "<tr>\n",
       "  <th>Intercept</th> <td>  157.2953</td> <td>  122.033</td> <td>    1.289</td> <td> 0.205</td> <td>  -89.155</td> <td>  403.746</td>\n",
       "</tr>\n",
       "<tr>\n",
       "  <th>Units</th>     <td>    6.0651</td> <td>    2.119</td> <td>    2.862</td> <td> 0.007</td> <td>    1.786</td> <td>   10.345</td>\n",
       "</tr>\n",
       "</table>\n",
       "<table class=\"simpletable\">\n",
       "<tr>\n",
       "  <th>Omnibus:</th>       <td> 8.971</td> <th>  Durbin-Watson:     </th> <td>   2.241</td>\n",
       "</tr>\n",
       "<tr>\n",
       "  <th>Prob(Omnibus):</th> <td> 0.011</td> <th>  Jarque-Bera (JB):  </th> <td>   8.505</td>\n",
       "</tr>\n",
       "<tr>\n",
       "  <th>Skew:</th>          <td> 1.072</td> <th>  Prob(JB):          </th> <td>  0.0142</td>\n",
       "</tr>\n",
       "<tr>\n",
       "  <th>Kurtosis:</th>      <td> 3.383</td> <th>  Cond. No.          </th> <td>    112.</td>\n",
       "</tr>\n",
       "</table><br/><br/>Notes:<br/>[1] Standard Errors assume that the covariance matrix of the errors is correctly specified."
      ],
      "text/latex": [
       "\\begin{center}\n",
       "\\begin{tabular}{lclc}\n",
       "\\toprule\n",
       "\\textbf{Dep. Variable:}    &      Total       & \\textbf{  R-squared:         } &     0.167   \\\\\n",
       "\\textbf{Model:}            &       OLS        & \\textbf{  Adj. R-squared:    } &     0.146   \\\\\n",
       "\\textbf{Method:}           &  Least Squares   & \\textbf{  F-statistic:       } &     8.193   \\\\\n",
       "\\textbf{Date:}             & Fri, 13 Sep 2024 & \\textbf{  Prob (F-statistic):} &  0.00660    \\\\\n",
       "\\textbf{Time:}             &     12:29:45     & \\textbf{  Log-Likelihood:    } &   -319.00   \\\\\n",
       "\\textbf{No. Observations:} &          43      & \\textbf{  AIC:               } &     642.0   \\\\\n",
       "\\textbf{Df Residuals:}     &          41      & \\textbf{  BIC:               } &     645.5   \\\\\n",
       "\\textbf{Df Model:}         &           1      & \\textbf{                     } &             \\\\\n",
       "\\textbf{Covariance Type:}  &    nonrobust     & \\textbf{                     } &             \\\\\n",
       "\\bottomrule\n",
       "\\end{tabular}\n",
       "\\begin{tabular}{lcccccc}\n",
       "                   & \\textbf{coef} & \\textbf{std err} & \\textbf{t} & \\textbf{P$> |$t$|$} & \\textbf{[0.025} & \\textbf{0.975]}  \\\\\n",
       "\\midrule\n",
       "\\textbf{Intercept} &     157.2953  &      122.033     &     1.289  &         0.205        &      -89.155    &      403.746     \\\\\n",
       "\\textbf{Units}     &       6.0651  &        2.119     &     2.862  &         0.007        &        1.786    &       10.345     \\\\\n",
       "\\bottomrule\n",
       "\\end{tabular}\n",
       "\\begin{tabular}{lclc}\n",
       "\\textbf{Omnibus:}       &  8.971 & \\textbf{  Durbin-Watson:     } &    2.241  \\\\\n",
       "\\textbf{Prob(Omnibus):} &  0.011 & \\textbf{  Jarque-Bera (JB):  } &    8.505  \\\\\n",
       "\\textbf{Skew:}          &  1.072 & \\textbf{  Prob(JB):          } &   0.0142  \\\\\n",
       "\\textbf{Kurtosis:}      &  3.383 & \\textbf{  Cond. No.          } &     112.  \\\\\n",
       "\\bottomrule\n",
       "\\end{tabular}\n",
       "%\\caption{OLS Regression Results}\n",
       "\\end{center}\n",
       "\n",
       "Notes: \\newline\n",
       " [1] Standard Errors assume that the covariance matrix of the errors is correctly specified."
      ],
      "text/plain": [
       "<class 'statsmodels.iolib.summary.Summary'>\n",
       "\"\"\"\n",
       "                            OLS Regression Results                            \n",
       "==============================================================================\n",
       "Dep. Variable:                  Total   R-squared:                       0.167\n",
       "Model:                            OLS   Adj. R-squared:                  0.146\n",
       "Method:                 Least Squares   F-statistic:                     8.193\n",
       "Date:                Fri, 13 Sep 2024   Prob (F-statistic):            0.00660\n",
       "Time:                        12:29:45   Log-Likelihood:                -319.00\n",
       "No. Observations:                  43   AIC:                             642.0\n",
       "Df Residuals:                      41   BIC:                             645.5\n",
       "Df Model:                           1                                         \n",
       "Covariance Type:            nonrobust                                         \n",
       "==============================================================================\n",
       "                 coef    std err          t      P>|t|      [0.025      0.975]\n",
       "------------------------------------------------------------------------------\n",
       "Intercept    157.2953    122.033      1.289      0.205     -89.155     403.746\n",
       "Units          6.0651      2.119      2.862      0.007       1.786      10.345\n",
       "==============================================================================\n",
       "Omnibus:                        8.971   Durbin-Watson:                   2.241\n",
       "Prob(Omnibus):                  0.011   Jarque-Bera (JB):                8.505\n",
       "Skew:                           1.072   Prob(JB):                       0.0142\n",
       "Kurtosis:                       3.383   Cond. No.                         112.\n",
       "==============================================================================\n",
       "\n",
       "Notes:\n",
       "[1] Standard Errors assume that the covariance matrix of the errors is correctly specified.\n",
       "\"\"\""
      ]
     },
     "execution_count": 20,
     "metadata": {},
     "output_type": "execute_result"
    }
   ],
   "source": [
    "result.summary()"
   ]
  },
  {
   "cell_type": "code",
   "execution_count": 21,
   "id": "8f4ceddf-e8cf-4d0a-be70-2f6c405b1062",
   "metadata": {},
   "outputs": [],
   "source": [
    "def my_reg(x):\n",
    "    return 6.07*x + 157.3\n",
    "x = off_supply['Units']\n",
    "y = off_supply['Total']\n",
    "\n",
    "reg_fn = list(map(my_reg, x))\n"
   ]
  },
  {
   "cell_type": "code",
   "execution_count": 22,
   "id": "1cff5862-844b-4bd8-843b-f7856bd795c5",
   "metadata": {},
   "outputs": [
    {
     "data": {
      "text/plain": [
       "<function matplotlib.pyplot.show(close=None, block=None)>"
      ]
     },
     "execution_count": 22,
     "metadata": {},
     "output_type": "execute_result"
    },
    {
     "data": {
      "image/png": "[encoded data removed]",
      "text/plain": [
       "<Figure size 640x480 with 1 Axes>"
      ]
     },
     "metadata": {},
     "output_type": "display_data"
    }
   ],
   "source": [
    "plt.scatter(x,y)\n",
    "plt.plot(x,reg_fn)\n",
    "plt.ylim(ymin =0, ymax = 3000)\n",
    "plt.xlim(xmin = 0, xmax = 200)\n",
    "plt.ylabel('Total')\n",
    "plt.xlabel('Units')\n",
    "\n",
    "plt.show"
   ]
  },
  {
   "cell_type": "code",
   "execution_count": 23,
   "id": "5fb84339-296f-47c4-821a-374b3f956df1",
   "metadata": {},
   "outputs": [
    {
     "data": {
      "text/plain": [
       "<function matplotlib.pyplot.show(close=None, block=None)>"
      ]
     },
     "execution_count": 23,
     "metadata": {},
     "output_type": "execute_result"
    },
    {
     "data": {
      "image/png": "[encoded data removed]",
      "text/plain": [
       "<Figure size 640x480 with 1 Axes>"
      ]
     },
     "metadata": {},
     "output_type": "display_data"
    }
   ],
   "source": [
    "plt.scatter(x,reg_fn)\n",
    "plt.ylim(ymin =0, ymax = 3000)\n",
    "plt.xlim(xmin = 0, xmax = 200)\n",
    "plt.ylabel('Total')\n",
    "plt.xlabel('Units')\n",
    "\n",
    "plt.show"
   ]
  },
  {
   "cell_type": "code",
   "execution_count": 47,
   "id": "874df81e-f692-4e51-a375-3ad385326852",
   "metadata": {},
   "outputs": [],
   "source": [
    "from scipy import constants"
   ]
  },
  {
   "cell_type": "code",
   "execution_count": 98,
   "id": "fefb8b79-df9e-4f51-9c2a-54c7cae26084",
   "metadata": {},
   "outputs": [
    {
     "data": {
      "text/plain": [
       "<function matplotlib.pyplot.show(close=None, block=None)>"
      ]
     },
     "execution_count": 98,
     "metadata": {},
     "output_type": "execute_result"
    },
    {
     "data": {
      "image/png": "[encoded data removed]",
      "text/plain": [
       "<Figure size 640x480 with 1 Axes>"
      ]
     },
     "metadata": {},
     "output_type": "display_data"
    }
   ],
   "source": [
    "from scipy.spatial import ConvexHull\n",
    "myarr = np.random.RandomState(2).randint(1, high=11, size = (11,2))\n",
    "Cvh = ConvexHull(myarr)\n",
    "Cvhr = Cvh.simplices\n",
    "\n",
    "plt.scatter(myarr[:,0], myarr[:,1], color = 'r')\n",
    "for points in Cvhr:\n",
    "    plt.plot(myarr[points, 0], myarr[points,1])\n",
    "plt.show\n",
    "                          "
   ]
  },
  {
   "cell_type": "code",
   "execution_count": 86,
   "id": "69050887-6768-4d08-b87a-d2126c9b1829",
   "metadata": {},
   "outputs": [
    {
     "data": {
      "text/plain": [
       "<function matplotlib.pyplot.show(close=None, block=None)>"
      ]
     },
     "execution_count": 86,
     "metadata": {},
     "output_type": "execute_result"
    },
    {
     "data": {
      "image/png": "[encoded data removed]",
      "text/plain": [
       "<Figure size 640x480 with 1 Axes>"
      ]
     },
     "metadata": {},
     "output_type": "display_data"
    }
   ],
   "source": [
    "from scipy.spatial import Delaunay\n",
    "myarr = np.random.randint(1, high=11, size = (11,2))\n",
    "Dvh = Delaunay(myarr)\n",
    "Dvhr = Dvh.simplices\n",
    "\n",
    "plt.scatter(myarr[:,0], myarr[:,1], color = 'r')\n",
    "plt.triplot(myarr[:, 0], myarr[:,1], Dvhr)\n",
    "plt.show"
   ]
  },
  {
   "cell_type": "code",
   "execution_count": 88,
   "id": "92e9b2ec-03e0-4ca3-997b-16ab75a3a93a",
   "metadata": {},
   "outputs": [
    {
     "name": "stdout",
     "output_type": "stream",
     "text": [
      "['LowLevelCallable', '__version__', 'cluster', 'constants', 'datasets', 'fft', 'fftpack', 'integrate', 'interpolate', 'io', 'linalg', 'misc', 'ndimage', 'odr', 'optimize', 'show_config', 'signal', 'sparse', 'spatial', 'special', 'stats', 'test']\n"
     ]
    }
   ],
   "source": [
    "print(dir(scipy))"
   ]
  },
  {
   "cell_type": "code",
   "execution_count": null,
   "id": "62ca1c51-5000-414b-956c-3036b262d4b1",
   "metadata": {},
   "outputs": [],
   "source": []
  }
 ],
 "metadata": {
  "kernelspec": {
   "display_name": "Python 3 (ipykernel)",
   "language": "python",
   "name": "python3"
  },
  "language_info": {
   "codemirror_mode": {
    "name": "ipython",
    "version": 3
   },
   "file_extension": ".py",
   "mimetype": "text/x-python",
   "name": "python",
   "nbconvert_exporter": "python",
   "pygments_lexer": "ipython3",
   "version": "3.12.3"
  }
 },
 "nbformat": 4,
 "nbformat_minor": 5
}
